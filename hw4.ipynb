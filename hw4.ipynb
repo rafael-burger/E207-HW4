{
 "cells": [
  {
   "cell_type": "markdown",
   "metadata": {},
   "source": [
    "# Audio Matching"
   ]
  },
  {
   "cell_type": "markdown",
   "metadata": {},
   "source": [
    "In this homework you will implement an audio matching system that can recognize a live performance of classical music.\n",
    "\n",
    "I have provided a skeleton of the code below, and you will fill in any sections marked with `### START CODE BLOCK ###` and `### END CODE BLOCK ###`.  Please do not change the code outside of these markers.  In particular, do not define any new functions, change the code decomposition, or modify function inputs, outputs, or default values.  Note that this code is written for ease of understanding and ease of grading, not for efficiency.\n",
    "\n",
    "Once you have completed this assignment, please run all cells in your notebook, make sure that all plots, images, and outputs are embedded in the notebook, and then submit your .ipynb file on Gradescope."
   ]
  },
  {
   "cell_type": "markdown",
   "metadata": {},
   "source": [
    "Partner 1 Name: Jeremy Kim\n",
    "\n",
    "Number of hours spent (Partner 1): __________\n",
    "\n",
    "Partner 2 Name: Rafael Burger \n",
    "\n",
    "Number of hours spent (Partner 2): __________\n"
   ]
  },
  {
   "cell_type": "code",
   "execution_count": 1,
   "metadata": {},
   "outputs": [],
   "source": [
    "%matplotlib inline"
   ]
  },
  {
   "cell_type": "code",
   "execution_count": 2,
   "metadata": {},
   "outputs": [],
   "source": [
    "import numpy as np\n",
    "import librosa as lb # for reference, my solutions use librosa version 0.7.2\n",
    "import matplotlib.pyplot as plt\n",
    "from scipy.signal import stft\n",
    "import glob\n",
    "import os.path\n",
    "import subprocess\n",
    "import pickle\n",
    "import IPython.display as ipd\n",
    "import warnings\n",
    "import hw4_solns"
   ]
  },
  {
   "cell_type": "code",
   "execution_count": 3,
   "metadata": {},
   "outputs": [],
   "source": [
    "warnings.filterwarnings(action='ignore') # to suppress warning messages"
   ]
  },
  {
   "cell_type": "markdown",
   "metadata": {},
   "source": [
    "### Extracting Chroma Features (30 points)"
   ]
  },
  {
   "cell_type": "markdown",
   "metadata": {},
   "source": [
    "In this first part you will implement a function that extracts chroma features."
   ]
  },
  {
   "cell_type": "markdown",
   "metadata": {},
   "source": [
    "In the extractChromaFeatures function, you should:\n",
    "- load the audio using librosa.core.load\n",
    "- calculate the STFT using scipy.signal.stft\n",
    "- compute the squared magnitude of STFT coefficients\n",
    "- determine the log frequency conversion matrix by calling getLogFreqConversionMatrix()\n",
    "- determine the chroma conversion matrix by calling getChromaConversionMatrix()\n",
    "- compute chroma features by applying the chroma conversion matrix\n",
    "- apply element-wise logarithmic compression by calling logCompression()\n",
    "- L2 normalize each column by calling normL2()"
   ]
  },
  {
   "cell_type": "code",
   "execution_count": 4,
   "metadata": {},
   "outputs": [],
   "source": [
    "def extractChromaFeatures(mp3file, sr = 22050, winsize = 2048, hop = 512, gamma = 10000):\n",
    "    '''\n",
    "    Compute chroma feature matrix on a specified audio file.\n",
    "    \n",
    "    Arguments:\n",
    "    mp3file -- path to mp3 file\n",
    "    sr -- desired sampling rate in Hz\n",
    "    winsize -- analysis window size in samples\n",
    "    hop -- hop size in samples\n",
    "    gamma -- coefficient used in log compression\n",
    "    \n",
    "    Returns:\n",
    "    F -- chroma feature matrix of size (12, M), where M is the number of audio frames.  The\n",
    "         features have logarithmic compression and each column is L2 normalized.\n",
    "    '''\n",
    "    ### START CODE BLOCK ###\n",
    "\n",
    "    d, fs = lb.core.load(mp3file, sr = sr)\n",
    "    f, t, S = stft(d, fs = sr, nperseg = winsize, noverlap = winsize - hop)\n",
    "    Smag_squared = np.abs(S)**2\n",
    "\n",
    "    B = getLogFreqConversionMatrix(winsize, fs)\n",
    "    W = getChromaConversionMatrix(B)\n",
    "    F = np.dot(W, Smag_squared)\n",
    "    F = logCompression(F, gamma)\n",
    "    F = normL2(F)\n",
    "\n",
    "    ### END CODE BLOCK ###\n",
    "    return F"
   ]
  },
  {
   "cell_type": "markdown",
   "metadata": {},
   "source": [
    "To calculate the log frequency spectrogram Slog, we can simply pre-multiply the one-sided spectrogram S with a matrix B.  If S has dimensions (N/2)+1 rows by M columns, then B will have 128 rows by (N/2)+1 columns.\n",
    "\n",
    "In the getLogFreqConversionMatrix function, you should:\n",
    "- determine the lower and upper bound in Hz for each pitch band for p=0, 1, ..., 127\n",
    "- determine the DFT indices that fall within the lower and upper bounds for each pitch value\n",
    "- set the appropriate indices in B to construct the log frequency conversion matrix\n",
    "\n",
    "Note that B will be a binary matrix containing only zeros and ones."
   ]
  },
  {
   "cell_type": "code",
   "execution_count": 5,
   "metadata": {},
   "outputs": [],
   "source": [
    "def getLogFreqConversionMatrix(N, fs):\n",
    "    '''\n",
    "    Determine the log frequency conversion matrix that can be used to pre-multiply a one-sided spectrogram\n",
    "    to get a log frequency spectrogram.\n",
    "    \n",
    "    Arguments:\n",
    "    N -- analysis window size\n",
    "    fs -- sampling rate\n",
    "    \n",
    "    Returns:\n",
    "    B -- a binary matrix of shape (128, (N/2)+1).  The log frequency spectrogram can be computed\n",
    "         by computing the matrix product of B and the spectrogram matrix.\n",
    "    '''\n",
    "    numBins = int(N/2) + 1\n",
    "    pitchMax = 128\n",
    "    B = np.zeros((pitchMax, numBins))\n",
    "    p = np.arange(pitchMax)\n",
    "\n",
    "    ### START CODE BLOCK ###\n",
    "\n",
    "    f_lower = 440 * 2**((p-0.5-69)/12)\n",
    "    f_upper = 440 * 2**((p+0.5-69)/12)\n",
    "\n",
    "    for i in range(pitchMax):\n",
    "        for j in range(numBins):\n",
    "            if (j*fs/N >= f_lower[i]) and (j*fs/N < f_upper[i]):\n",
    "                B[i, j] = 1\n",
    "    \n",
    "    ### END CODE BLOCK ###\n",
    "\n",
    "    return B"
   ]
  },
  {
   "cell_type": "markdown",
   "metadata": {},
   "source": [
    "To calculate chroma features, we can simply pre-multiply the one-sided spectrogram S with a matrix W.  If S has dimension (N/2)+1 rows by M columns, then W will have 12 rows by M columns.  The matrix W can be computed by collapsing appropriate rows in the log frequency conversion matrix B.\n",
    "\n",
    "In the getChromaConversionMatrix, you should:\n",
    "- initialize W to the appropriate size\n",
    "- for each chroma value, sum across constituent pitch values\n",
    "\n",
    "Note that W will be a binary matrix containing only zeros and ones."
   ]
  },
  {
   "cell_type": "code",
   "execution_count": 6,
   "metadata": {},
   "outputs": [],
   "source": [
    "def getChromaConversionMatrix(B):\n",
    "    '''\n",
    "    Determine the chroma conversion matrix that can be used to pre-multiply a one-sided spectrogram\n",
    "    to calculate chroma features.\n",
    "    \n",
    "    Arguments:\n",
    "    B -- log frequency conversion matrix\n",
    "    \n",
    "    Returns:\n",
    "    W -- a binary matrix with 12 rows and the same number of columns as B.  Chroma features can be computed\n",
    "         as the matrix product of W and the spectrogram matrix.\n",
    "    '''\n",
    "    \n",
    "    ### START CODE BLOCK ###\n",
    "\n",
    "    height, width = B.shape\n",
    "    W = np.zeros((12, width))\n",
    "\n",
    "    for chroma in range(12):\n",
    "        pitch_indices = np.arange(chroma, height, 12)\n",
    "        W[chroma] = np.sum(B[pitch_indices], axis=0)\n",
    "        W[chroma] = np.where(W[chroma] > 0, 1, 0)\n",
    "    \n",
    "    ### END CODE BLOCK ###\n",
    "\n",
    "    return W"
   ]
  },
  {
   "cell_type": "markdown",
   "metadata": {},
   "source": [
    "In the logCompression function, you should:\n",
    "- apply logarithmic compression ln(1 + gamma * c) to each element c.  Note that the log is with base e."
   ]
  },
  {
   "cell_type": "code",
   "execution_count": 7,
   "metadata": {},
   "outputs": [],
   "source": [
    "def logCompression(F, gamma = 10000):\n",
    "    '''\n",
    "    Apply element-wise logarithmic compression.\n",
    "    \n",
    "    Arguments:\n",
    "    F -- input matrix\n",
    "    gamma -- scalar that controls the level of compression as ln(1 + gamma * c)\n",
    "    |\n",
    "    Returns:\n",
    "    Fc -- matrix of logarithmically compressed values.  Fc is of the same size as F.\n",
    "    '''\n",
    "    \n",
    "    ### START CODE BLOCK ###\n",
    "\n",
    "    Fc = np.log(1 + gamma*F)\n",
    "    \n",
    "    ### START CODE BLOCK ###\n",
    "\n",
    "    return Fc"
   ]
  },
  {
   "cell_type": "markdown",
   "metadata": {},
   "source": [
    "In the normL2 function, you should:\n",
    "- normalize each column of a matrix to have unit L2 norm\n",
    "\n",
    "Make sure to implement this in a vectorized way.  Also, you will want to add a small epsilon (e.g. `1e-9`) to the denominator in case you have a column of all zeros."
   ]
  },
  {
   "cell_type": "code",
   "execution_count": 8,
   "metadata": {},
   "outputs": [],
   "source": [
    "def normL2(F):\n",
    "    '''\n",
    "    Normalize each column of a matrix to have unit L2 norm.\n",
    "    \n",
    "    Arguments:\n",
    "    F -- input feature matrix where each column corresponds to a single feature vector\n",
    "    \n",
    "    Returns:\n",
    "    Fnorm -- normalized feature matrix of the same shape as F, where each column has been\n",
    "             been normalized to be unit L2 norm\n",
    "    '''\n",
    "    ### START CODE BLOCK ###\n",
    "\n",
    "    epsilon = 1e-9\n",
    "    norm = np.sqrt(np.sum(F**2, axis=0) + epsilon)\n",
    "    Fnorm = F / norm\n",
    "    \n",
    "    ### END CODE BLOCK ###\n",
    "    \n",
    "    return Fnorm"
   ]
  },
  {
   "cell_type": "markdown",
   "metadata": {},
   "source": [
    "Here are some sample outputs to use for debugging and verifying that your implementation is correct."
   ]
  },
  {
   "cell_type": "code",
   "execution_count": 9,
   "metadata": {},
   "outputs": [
    {
     "data": {
      "text/plain": [
       "array([0., 0., 0., 0., 0., 1., 1., 0., 0., 0.])"
      ]
     },
     "execution_count": 9,
     "metadata": {},
     "output_type": "execute_result"
    }
   ],
   "source": [
    "B = getLogFreqConversionMatrix(2048, 22050)\n",
    "B[64,25:35]"
   ]
  },
  {
   "cell_type": "markdown",
   "metadata": {},
   "source": [
    "array([0., 0., 0., 0., 0., 1., 1., 0., 0., 0.])"
   ]
  },
  {
   "cell_type": "code",
   "execution_count": 10,
   "metadata": {},
   "outputs": [
    {
     "data": {
      "text/plain": [
       "array([0., 0., 0., 1., 0., 0., 1., 0., 0., 0., 0., 0., 1., 0., 0., 0., 0.,\n",
       "       0., 0., 0., 0., 0., 0., 0., 1., 1., 0., 0., 0., 0.])"
      ]
     },
     "execution_count": 10,
     "metadata": {},
     "output_type": "execute_result"
    }
   ],
   "source": [
    "C = getChromaConversionMatrix(B)\n",
    "C[0,0:30]"
   ]
  },
  {
   "cell_type": "markdown",
   "metadata": {},
   "source": [
    "array([0., 0., 0., 1., 0., 0., 1., 0., 0., 0., 0., 0., 1., 0., 0., 0., 0.,\n",
    "       0., 0., 0., 0., 0., 0., 0., 1., 1., 0., 0., 0., 0.])"
   ]
  },
  {
   "cell_type": "code",
   "execution_count": 11,
   "metadata": {},
   "outputs": [
    {
     "data": {
      "text/plain": [
       "array([[ 0.        ,  9.21044037,  9.90353755],\n",
       "       [10.30898599, 10.59665973, 10.81979828],\n",
       "       [11.00211651, 11.15626481, 11.28979441]])"
      ]
     },
     "execution_count": 11,
     "metadata": {},
     "output_type": "execute_result"
    }
   ],
   "source": [
    "logCompression(np.arange(9).reshape((3,3)))"
   ]
  },
  {
   "cell_type": "markdown",
   "metadata": {},
   "source": [
    "array([[ 0.        ,  9.21044037,  9.90353755],\n",
    "       [10.30898599, 10.59665973, 10.81979828],\n",
    "       [11.00211651, 11.15626481, 11.28979441]])"
   ]
  },
  {
   "cell_type": "code",
   "execution_count": 12,
   "metadata": {},
   "outputs": [
    {
     "data": {
      "text/plain": [
       "array([1., 1., 1., 1., 1., 1., 1., 1., 1., 1.])"
      ]
     },
     "execution_count": 12,
     "metadata": {},
     "output_type": "execute_result"
    }
   ],
   "source": [
    "T = normL2(np.random.randn(5,10))\n",
    "np.sum(T * T, axis = 0)"
   ]
  },
  {
   "cell_type": "markdown",
   "metadata": {},
   "source": [
    "array([1., 1., 1., 1., 1., 1., 1., 1., 1., 1.])"
   ]
  },
  {
   "cell_type": "code",
   "execution_count": 16,
   "metadata": {},
   "outputs": [
    {
     "data": {
      "image/png": "[encoded data removed]",
      "text/plain": [
       "<Figure size 640x480 with 1 Axes>"
      ]
     },
     "metadata": {},
     "output_type": "display_data"
    }
   ],
   "source": [
    "F = extractChromaFeatures('queries/chopin_alternate_query.mp3')\n",
    "plt.imshow(F[:,0:50], cmap = 'jet', origin = 'lower')\n",
    "plt.show()"
   ]
  },
  {
   "cell_type": "markdown",
   "metadata": {},
   "source": [
    "<img src=\"figs/sampleChroma.png\">"
   ]
  },
  {
   "cell_type": "markdown",
   "metadata": {},
   "source": [
    "### Constructing Database (5 points)"
   ]
  },
  {
   "cell_type": "markdown",
   "metadata": {},
   "source": [
    "In this part you will construct the database of features.\n",
    "\n",
    "In the constructDB function, you should:\n",
    "- create a python dictionary that will contain the database\n",
    "- iterate through the mp3 files in the specified directory using glob.glob\n",
    "- extract chroma features from each file\n",
    "- store the chroma feature matrix in the dictionary, where the dictionary key is a string specifying the piece name and the value is a feature matrix"
   ]
  },
  {
   "cell_type": "code",
   "execution_count": 20,
   "metadata": {},
   "outputs": [],
   "source": [
    "def constructDB(indir):\n",
    "    '''\n",
    "    Constructs a database containing the feature matrices for all reference tracks.\n",
    "    \n",
    "    Arguments:\n",
    "    indir -- directory containing the mp3 files to store in the database\n",
    "    \n",
    "    Returns:\n",
    "    db -- a dictionary where the key is the name of the piece and the value is its chroma feature matrix\n",
    "    '''\n",
    "    db = {}\n",
    "    \n",
    "    ### START CODE BLOCK ###\n",
    "\n",
    "    for mp3file in glob.glob('%s/*.mp3' % indir):\n",
    "        F = extractChromaFeatures(mp3file)\n",
    "        piece_name = mp3file.split('/')[-1].split('.')[0]\n",
    "        db[piece_name] = F    \n",
    "    \n",
    "    ### END CODE BLOCK ###\n",
    "    \n",
    "    return db"
   ]
  },
  {
   "cell_type": "markdown",
   "metadata": {},
   "source": [
    "Now let's call the constructDB function and save the database to file using `pickle.dump` for later use.  Note that this may take about a minute to run."
   ]
  },
  {
   "cell_type": "code",
   "execution_count": 21,
   "metadata": {},
   "outputs": [],
   "source": [
    "### START CODE BLOCK ###\n",
    "\n",
    "db = constructDB(\"queries/\")\n",
    "\n",
    "with open('db.pkl','wb') as f:\n",
    "    pickle.dump(db, f)\n",
    "\n",
    "with open('db.pkl','rb') as f:\n",
    "    db = pickle.load(f)\n",
    "\n",
    "### END CODE BLOCK ###"
   ]
  },
  {
   "cell_type": "markdown",
   "metadata": {},
   "source": [
    "### Subsequence DTW (35 points)"
   ]
  },
  {
   "cell_type": "markdown",
   "metadata": {},
   "source": [
    "In this part you will implement functions necessary to run subsequence DTW.  The tasks you must complete are:\n",
    "- implement the computeCostMatrix_costdist function\n",
    "- implement the subsequenceDTW function\n",
    "- compare the output of your function to librosa.core.dtw to verify that they match on a single example\n",
    "- plot the cost matrix and overlay the predicted alignment path for a single example\n",
    "- listen to the query and predicted matching segment of the reference to verify that the alignment was done correctly\n",
    "- calculate the ratio between the query audio length and the matching segment length\n",
    "\n",
    "Please make sure to include all work in your notebook to get full credit!"
   ]
  },
  {
   "cell_type": "markdown",
   "metadata": {},
   "source": [
    "In the computeCostMatrix_cosdist function, you should:\n",
    "- compute the cosine distance cost matrix C"
   ]
  },
  {
   "cell_type": "code",
   "execution_count": null,
   "metadata": {},
   "outputs": [],
   "source": [
    "def computeCostMatrix_cosdist(Fquery,Fref):\n",
    "    '''\n",
    "    Computes the cosine distance cost matrix.\n",
    "    \n",
    "    Arguments:\n",
    "    Fquery -- the query chroma feature matrix of dimension (12, # query frames), this feature\n",
    "              matrix is assumed to be L2 normalized\n",
    "    Fref -- the reference feature matrix, of dimension (12, # reference frames), this feature\n",
    "            matrix is assumed to be L2 normalized\n",
    "    \n",
    "    Returns:\n",
    "    C -- cost matrix whose (i,j)th element specifies the cosine distance between the i-th query frame\n",
    "         and the j-th reference frame\n",
    "    '''\n",
    "    \n",
    "    ### START CODE BLOCK ###\n",
    "    \n",
    "    ### START CODE BLOCK ###\n",
    "\n",
    "    return C"
   ]
  },
  {
   "cell_type": "markdown",
   "metadata": {},
   "source": [
    "In the subsequenceDTW function, you should:\n",
    "- initialize the cumulative cost matrix D and backtrace matrix B\n",
    "- compute the values in D and B using dynamic programming\n",
    "- call the `backtrace` function to determine the optimal path\n",
    "- construct the optimal subsequence path"
   ]
  },
  {
   "cell_type": "code",
   "execution_count": null,
   "metadata": {},
   "outputs": [],
   "source": [
    "def subsequenceDTW(C, steps, weights):\n",
    "    '''\n",
    "    Find the optimal subsequence path through cost matrix C.\n",
    "    \n",
    "    Arguments:\n",
    "    C -- cost matrix of dimension (# query frames, # reference frames)\n",
    "    steps -- a numpy matrix specifying the allowable transitions.  It should be of\n",
    "            dimension (L, 2), where each row specifies (row step, col step)\n",
    "    weights -- a vector of size L specifying the multiplicative weights associated \n",
    "                with each of the allowable transitions\n",
    "                \n",
    "    Returns:\n",
    "    optcost -- the optimal subsequence path score\n",
    "    path -- a matrix with 2 columns specifying the optimal subsequence path.  Each row \n",
    "            specifies the (row, col) coordinate.\n",
    "    '''\n",
    "    D = np.zeros(C.shape)\n",
    "    B = np.zeros(C.shape, dtype=np.int8)\n",
    "\n",
    "    ### START CODE BLOCK ###\n",
    "    \n",
    "    \n",
    "    \n",
    "    ### END CODE BLOCK ###\n",
    "    \n",
    "    path = np.array(path)\n",
    "    \n",
    "    return optcost, path"
   ]
  },
  {
   "cell_type": "markdown",
   "metadata": {},
   "source": [
    "In the backtrace function, you should:\n",
    "- determine the coordinate of the ending point on the optimal path\n",
    "- follow the backtrace pointers and append each coordinate to `path`\n",
    "- return a list of the coordinates in the optimal subsequence path"
   ]
  },
  {
   "cell_type": "code",
   "execution_count": null,
   "metadata": {},
   "outputs": [],
   "source": [
    "def backtrace(D, B, steps):\n",
    "    '''\n",
    "    Backtraces through the cumulative cost matrix D.\n",
    "    \n",
    "    Arguments:\n",
    "    D -- cumulative cost matrix\n",
    "    B -- backtrace matrix\n",
    "    steps -- a numpy matrix specifying the allowable transitions.  It should be of\n",
    "            dimension (L, 2), where each row specifies (row step, col step)\n",
    "    \n",
    "    Returns:\n",
    "    path -- a python list of (row, col) coordinates for the optimal path.\n",
    "    '''\n",
    "\n",
    "    path = []\n",
    "\n",
    "    ### START CODE BLOCK ###\n",
    "    \n",
    "    \n",
    "    \n",
    "    ### END CODE BLOCK ###\n",
    "    \n",
    "    return path"
   ]
  },
  {
   "cell_type": "markdown",
   "metadata": {},
   "source": [
    "To check if your implementation is correct, verify that your function's output matches the output of librosa.core.dtw on the following example (please do not change the parameters below)."
   ]
  },
  {
   "cell_type": "code",
   "execution_count": null,
   "metadata": {},
   "outputs": [],
   "source": [
    "queryfile = 'queries/beethoven_alternate_query.mp3'\n",
    "reffile = 'references/beethoven.mp3'\n",
    "steps = np.array([2, 1, 1, 2, 1, 1]).reshape((3,2))\n",
    "weights = [1,1,1]"
   ]
  },
  {
   "cell_type": "code",
   "execution_count": null,
   "metadata": {},
   "outputs": [],
   "source": [
    "Fquery = extractChromaFeatures(queryfile)\n",
    "Fref = extractChromaFeatures(reffile)"
   ]
  },
  {
   "cell_type": "code",
   "execution_count": null,
   "metadata": {},
   "outputs": [],
   "source": [
    "D, wp = lb.sequence.dtw(X=Fquery, Y=Fref, step_sizes_sigma=steps, weights_mul=weights, metric = 'cosine', subseq=True)\n",
    "wp[-5:], np.min(D[-1,:])"
   ]
  },
  {
   "cell_type": "code",
   "execution_count": null,
   "metadata": {},
   "outputs": [],
   "source": [
    "# run your own implementation of subsequence DTW and verify that the outputs match\n",
    "\n",
    "### START CODE BLOCK ###\n",
    "\n",
    "### END CODE BLOCK ###"
   ]
  },
  {
   "cell_type": "markdown",
   "metadata": {},
   "source": [
    "Display the cost matrix as an image and overlay the predicted alignment."
   ]
  },
  {
   "cell_type": "code",
   "execution_count": null,
   "metadata": {},
   "outputs": [],
   "source": [
    "### START CODE BLOCK ###\n",
    "\n",
    "### END CODE BLOCK ###"
   ]
  },
  {
   "cell_type": "markdown",
   "metadata": {},
   "source": [
    "Listen to the query and the predicted matching segment of the reference.  You can use IPython.display.Audio"
   ]
  },
  {
   "cell_type": "code",
   "execution_count": null,
   "metadata": {},
   "outputs": [],
   "source": [
    "# listen to query\n",
    "\n",
    "### START CODE BLOCK ###\n",
    "\n",
    "### END CODE BLOCK ###"
   ]
  },
  {
   "cell_type": "code",
   "execution_count": null,
   "metadata": {},
   "outputs": [],
   "source": [
    "# listen to matching segment of reference\n",
    "\n",
    "### START CODE BLOCK ###\n",
    "\n",
    "### END CODE BLOCK ###"
   ]
  },
  {
   "cell_type": "markdown",
   "metadata": {},
   "source": [
    "Calculate the ratio of the query length to the matching segment length.  This gives an overall sense of how similar or different the tempos are."
   ]
  },
  {
   "cell_type": "code",
   "execution_count": null,
   "metadata": {},
   "outputs": [],
   "source": [
    "### START CODE BLOCK ###\n",
    "\n",
    "### END CODE BLOCK ###"
   ]
  },
  {
   "cell_type": "markdown",
   "metadata": {},
   "source": [
    "### Benchmark (15 points)"
   ]
  },
  {
   "cell_type": "markdown",
   "metadata": {},
   "source": [
    "In this part you will put all the pieces together to implement an audio matching system and measure its accuracy.  You must do the following:\n",
    "- implement runBenchmark function\n",
    "- run the benchmark and display the accuracy of your system"
   ]
  },
  {
   "cell_type": "markdown",
   "metadata": {},
   "source": [
    "In the runBenchmark function, you should:\n",
    "- iterate through the query files in the specified directory\n",
    "- extract features on the query\n",
    "- compute the match score of each piece in the database using subsequence DTW\n",
    "- check if the predicted piece is correct\n",
    "\n",
    "To speed up your experiment, you may use `lb.sequence.dtw` in place of your own subsequenceDTW implementation.  You should compute the cost matrix using your `computeCostMatrix_cosdist` function, and then pass the cost matrix to `lb.sequence.dtw`."
   ]
  },
  {
   "cell_type": "code",
   "execution_count": null,
   "metadata": {},
   "outputs": [],
   "source": [
    "def runBenchmark(d, indir, steps, weights, shorten = None):\n",
    "    '''\n",
    "    Runs a benchmark on a given set of queries and returns the accuracy of the system.\n",
    "    \n",
    "    Arguments:\n",
    "    d -- database of chroma feature matrices\n",
    "    indir -- directory containing query mp3 files\n",
    "    steps -- matrix specifying allowable transitions in the subsequence DTW, size (L, 2)\n",
    "    weights -- vector of length L specifying the multiplicative weights of each transition\n",
    "    shorten -- a float between 0 and 1 specifying what fraction of the query to use.  For example, \n",
    "               when shorten = .5, only the first 50% of the features will be used.\n",
    "               \n",
    "    Returns:\n",
    "    accuracy -- the fraction of queries that were identified correctly\n",
    "    '''\n",
    "\n",
    "    ### START CODE BLOCK ###\n",
    "    \n",
    "    ### END CODE BLOCK ###\n",
    "    \n",
    "    return accuracy"
   ]
  },
  {
   "cell_type": "markdown",
   "metadata": {},
   "source": [
    "Now run the benchmark and print out the system accuracy."
   ]
  },
  {
   "cell_type": "code",
   "execution_count": null,
   "metadata": {},
   "outputs": [],
   "source": [
    "### START CODE BLOCK ###\n",
    "\n",
    "### END CODE BLOCK ###"
   ]
  },
  {
   "cell_type": "markdown",
   "metadata": {},
   "source": [
    "### Analysis (15 points)"
   ]
  },
  {
   "cell_type": "markdown",
   "metadata": {},
   "source": [
    "In this part you will run additional experiments to gain more intuition about how subsequence DTW works.  You should do the following:\n",
    "- Run a set of experiments that varies two different parameters: the length of the audio query and the DTW transition weights.  The allowable transitions should be fixed to {(1,1), (1,2), (2,1)}.\n",
    "- Create a plot that shows how accuracy changes for the following query lengths: 3 sec, 2 sec, 1 sec, .75 sec, .5 sec, .25 sec.  Your plot should also compare the following two weighting schemes: `{1,1,1}` and `{1,1,2}`.  This will require you to run your benchmark 12 times with different settings.\n",
    "- Describe which weighting scheme is better for very short queries and provide an intuitive explanation for why that weighting scheme should be better."
   ]
  },
  {
   "cell_type": "code",
   "execution_count": null,
   "metadata": {},
   "outputs": [],
   "source": [
    "# run series of benchmarks\n",
    "\n",
    "### START CODE BLOCK ###\n",
    "\n",
    "### END CODE BLOCK ###"
   ]
  },
  {
   "cell_type": "code",
   "execution_count": null,
   "metadata": {},
   "outputs": [],
   "source": [
    "# create plot of results\n",
    "\n",
    "### START CODE BLOCK ###\n",
    "\n",
    "### END CODE BLOCK ###"
   ]
  }
 ],
 "metadata": {
  "kernelspec": {
   "display_name": "E207_Spr24",
   "language": "python",
   "name": "e207_spr24"
  },
  "language_info": {
   "codemirror_mode": {
    "name": "ipython",
    "version": 3
   },
   "file_extension": ".py",
   "mimetype": "text/x-python",
   "name": "python",
   "nbconvert_exporter": "python",
   "pygments_lexer": "ipython3",
   "version": "3.11.7"
  }
 },
 "nbformat": 4,
 "nbformat_minor": 4
}
